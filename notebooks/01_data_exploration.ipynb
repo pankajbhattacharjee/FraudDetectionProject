{
 "cells": [
  {
   "cell_type": "markdown",
   "id": "84919bb9",
   "metadata": {},
   "source": [
    "# 📊 01 - Data Exploration Notebook\n",
    "\n",
    "In this notebook, we'll:\n",
    "- Load the transaction dataset\n",
    "- View dataset structure\n",
    "- Check for missing values\n",
    "- Explore fraud distribution\n",
    "- Visualize transaction amounts\n"
   ]
  },
  {
   "cell_type": "code",
   "execution_count": null,
   "id": "de9687a4",
   "metadata": {
    "vscode": {
     "languageId": "plaintext"
    }
   },
   "outputs": [],
   "source": [
    "import pandas as pd\n",
    "\n",
    "df = pd.read_csv('../data/transactions.csv')\n",
    "df.head()\n"
   ]
  },
  {
   "cell_type": "code",
   "execution_count": null,
   "id": "01be95fd",
   "metadata": {
    "vscode": {
     "languageId": "plaintext"
    }
   },
   "outputs": [],
   "source": [
    "df.info()\n"
   ]
  },
  {
   "cell_type": "code",
   "execution_count": null,
   "id": "e4466e83",
   "metadata": {
    "vscode": {
     "languageId": "plaintext"
    }
   },
   "outputs": [],
   "source": [
    "df.describe()\n"
   ]
  },
  {
   "cell_type": "code",
   "execution_count": null,
   "id": "97e7fb12",
   "metadata": {
    "vscode": {
     "languageId": "plaintext"
    }
   },
   "outputs": [],
   "source": [
    "df.isnull().sum()\n"
   ]
  },
  {
   "cell_type": "markdown",
   "id": "1cc6661b",
   "metadata": {},
   "source": [
    "## 📈 Transaction Amount Distribution\n",
    "\n",
    "Let's visualize how transaction amounts are distributed.\n"
   ]
  },
  {
   "cell_type": "code",
   "execution_count": null,
   "id": "b5bd4ef0",
   "metadata": {
    "vscode": {
     "languageId": "plaintext"
    }
   },
   "outputs": [],
   "source": [
    "import matplotlib.pyplot as plt\n",
    "import seaborn as sns\n",
    "\n",
    "plt.figure(figsize=(10,5))\n",
    "sns.histplot(df['TX_AMOUNT'], bins=50, kde=True)\n",
    "plt.title('Transaction Amount Distribution')\n",
    "plt.xlabel('Transaction Amount')\n",
    "plt.ylabel('Frequency')\n",
    "plt.show()\n"
   ]
  },
  {
   "cell_type": "markdown",
   "id": "499cf4b9",
   "metadata": {},
   "source": [
    "## 🔍 Fraud Transaction Count\n",
    "\n",
    "Now, we'll check how many fraudulent and legitimate transactions are present.\n"
   ]
  },
  {
   "cell_type": "code",
   "execution_count": null,
   "id": "d140f845",
   "metadata": {
    "vscode": {
     "languageId": "plaintext"
    }
   },
   "outputs": [],
   "source": [
    "sns.countplot(x='TX_FRAUD', data=df)\n",
    "plt.title('Fraud vs Legitimate Transaction Count')\n",
    "plt.xlabel('Transaction Type (0 = Legit, 1 = Fraud)')\n",
    "plt.ylabel('Count')\n",
    "plt.show()\n"
   ]
  },
  {
   "cell_type": "code",
   "execution_count": null,
   "id": "800a16cc",
   "metadata": {
    "vscode": {
     "languageId": "plaintext"
    }
   },
   "outputs": [],
   "source": []
  }
 ],
 "metadata": {
  "language_info": {
   "name": "python"
  }
 },
 "nbformat": 4,
 "nbformat_minor": 5
}
