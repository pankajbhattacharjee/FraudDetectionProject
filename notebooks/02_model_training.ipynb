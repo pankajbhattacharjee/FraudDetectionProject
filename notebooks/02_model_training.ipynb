{
 "cells": [
  {
   "cell_type": "markdown",
   "id": "a5a6b91a",
   "metadata": {},
   "source": [
    "# 🧠 02 - Model Training Notebook\n",
    "\n",
    "In this notebook, we'll:\n",
    "- Preprocess the transaction data\n",
    "- Train a Logistic Regression model\n",
    "- Evaluate its performance on unseen data\n"
   ]
  },
  {
   "cell_type": "code",
   "execution_count": null,
   "id": "914c9e9f",
   "metadata": {
    "vscode": {
     "languageId": "plaintext"
    }
   },
   "outputs": [],
   "source": [
    "from src.data_preprocessing import load_data, preprocess_data\n",
    "from src.model_training import train_model\n"
   ]
  },
  {
   "cell_type": "code",
   "execution_count": null,
   "id": "7bf61658",
   "metadata": {
    "vscode": {
     "languageId": "plaintext"
    }
   },
   "outputs": [],
   "source": [
    "df = load_data('../data/transactions.csv')\n",
    "df = preprocess_data(df)\n",
    "df.head()\n"
   ]
  },
  {
   "cell_type": "code",
   "execution_count": null,
   "id": "2f2c9528",
   "metadata": {
    "vscode": {
     "languageId": "plaintext"
    }
   },
   "outputs": [],
   "source": [
    "feature_columns = ['TX_AMOUNT', 'HIGH_AMOUNT', 'HOUR', 'DAY']\n",
    "X = df[feature_columns]\n",
    "y = df['TX_FRAUD']\n"
   ]
  },
  {
   "cell_type": "code",
   "execution_count": null,
   "id": "df00695a",
   "metadata": {
    "vscode": {
     "languageId": "plaintext"
    }
   },
   "outputs": [],
   "source": [
    "model = train_model(X, y)\n"
   ]
  },
  {
   "cell_type": "markdown",
   "id": "086dde1f",
   "metadata": {},
   "source": [
    "## 📊 Model Evaluation Meaning:\n",
    "\n",
    "After training the model, we check how well it predicts fraud on unseen data (test set).\n",
    "\n",
    "We look at:\n",
    "- **Confusion Matrix**: Correct and incorrect predictions\n",
    "- **Classification Report**: Precision, Recall, F1-Score\n",
    "- **Accuracy**: Overall correct prediction percentage\n"
   ]
  },
  {
   "cell_type": "code",
   "execution_count": null,
   "id": "6a33af09",
   "metadata": {
    "vscode": {
     "languageId": "plaintext"
    }
   },
   "outputs": [],
   "source": [
    "from sklearn.model_selection import train_test_split\n",
    "from sklearn.metrics import confusion_matrix, classification_report, accuracy_score\n",
    "import seaborn as sns\n",
    "import matplotlib.pyplot as plt\n"
   ]
  },
  {
   "cell_type": "code",
   "execution_count": null,
   "id": "c07ea009",
   "metadata": {
    "vscode": {
     "languageId": "plaintext"
    }
   },
   "outputs": [],
   "source": [
    "# Split the data\n",
    "X_train, X_test, y_train, y_test = train_test_split(X, y, test_size=0.2, random_state=42)\n",
    "\n",
    "# Train the model on train set\n",
    "model = train_model(X_train, y_train)\n",
    "\n",
    "# Predict on test set\n",
    "y_pred = model.predict(X_test)\n"
   ]
  },
  {
   "cell_type": "code",
   "execution_count": null,
   "id": "b2446fb0",
   "metadata": {
    "vscode": {
     "languageId": "plaintext"
    }
   },
   "outputs": [],
   "source": [
    "cm = confusion_matrix(y_test, y_pred)\n",
    "\n",
    "plt.figure(figsize=(6,4))\n",
    "sns.heatmap(cm, annot=True, fmt='d', cmap='Blues', cbar=False)\n",
    "plt.title('Confusion Matrix')\n",
    "plt.xlabel('Predicted')\n",
    "plt.ylabel('Actual')\n",
    "plt.show()\n"
   ]
  },
  {
   "cell_type": "code",
   "execution_count": null,
   "id": "b886e189",
   "metadata": {
    "vscode": {
     "languageId": "plaintext"
    }
   },
   "outputs": [],
   "source": [
    "print(\"Classification Report:\\n\")\n",
    "print(classification_report(y_test, y_pred))\n",
    "\n",
    "print(\"Accuracy Score:\", accuracy_score(y_test, y_pred))\n"
   ]
  },
  {
   "cell_type": "code",
   "execution_count": null,
   "id": "10a3a706",
   "metadata": {
    "vscode": {
     "languageId": "plaintext"
    }
   },
   "outputs": [],
   "source": []
  }
 ],
 "metadata": {
  "language_info": {
   "name": "python"
  }
 },
 "nbformat": 4,
 "nbformat_minor": 5
}
